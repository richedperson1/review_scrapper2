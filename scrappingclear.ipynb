{
 "cells": [
  {
   "cell_type": "markdown",
   "metadata": {},
   "source": [
    "## Library importing"
   ]
  },
  {
   "cell_type": "code",
   "execution_count": 19,
   "metadata": {},
   "outputs": [],
   "source": [
    "import requests\n",
    "from bs4 import BeautifulSoup as bs\n",
    "from urllib.request import urlopen as uReq\n",
    "import csv\n",
    "import pandas as pd\n",
    "import re\n",
    "import csv"
   ]
  },
  {
   "cell_type": "markdown",
   "metadata": {},
   "source": [
    "## Url define"
   ]
  },
  {
   "cell_type": "code",
   "execution_count": 20,
   "metadata": {},
   "outputs": [],
   "source": [
    "url = \"https://www.civilaviation.gov.in/\"\n",
    "\n",
    "headers = {\n",
    "    'User-Agent': \"Mozilla/5.0 (Windows NT 10.0; Win64; x64) AppleWebKit/537.36 (KHTML, like Gecko) Chrome/105.0.0.0 Safari/537.36 Edg/105.0.1343.53\"}\n",
    "# Get the html\n",
    "reading = uReq(url)\n",
    "\n",
    "\n",
    "airportRead = reading.read()\n",
    "airPortBs = bs(airportRead, \"html.parser\")\n",
    "\n",
    "bigboxes = airPortBs.findAll(\n",
    "    \"div\", {\"class\": \"airport-col\"})"
   ]
  },
  {
   "cell_type": "markdown",
   "metadata": {},
   "source": [
    "CSV files"
   ]
  },
  {
   "cell_type": "code",
   "execution_count": 21,
   "metadata": {},
   "outputs": [],
   "source": [
    "filename = \"airportData.csv\"\n",
    "fw = open(filename, \"w\", encoding='UTF8')\n",
    "fw.write(\"key value \\n\")\n",
    "writer = csv.writer(fw)\n"
   ]
  },
  {
   "cell_type": "code",
   "execution_count": 32,
   "metadata": {},
   "outputs": [
    {
     "name": "stdout",
     "output_type": "stream",
     "text": [
      "Not found\n",
      "Not found\n",
      "Not found\n",
      "Not found\n",
      "Not found\n",
      "81\n"
     ]
    }
   ],
   "source": [
    "filename = \"airportData.csv\"\n",
    "fw = open(filename, \"w\", encoding='UTF8')\n",
    "fw.write(\"key value \\n\")\n",
    "writer = csv.writer(fw)\n",
    "\n",
    "total = 0\n",
    "for i in range(len(bigboxes)):\n",
    "    try:\n",
    "    \n",
    "        finalValue = (bigboxes[i].div.findAll(\n",
    "            {\"a\": {\"class\": \"hvr-bounce-to-right\"}}))\n",
    "        for val in range(len(finalValue)):\n",
    "            a = finalValue[val].text\n",
    "            if type(a)==list or a[0].lower()==\"more\" or a[0]==\"view\":\n",
    "                print(a)\n",
    "                continue\n",
    "            if a in \"more\" or a in \"View\":\n",
    "                print(a)\n",
    "                continue\n",
    "            try:\n",
    "                if a.split():\n",
    "                    writer.writerow(a.split())\n",
    "            except:\n",
    "                continue\n",
    "            total+=1\n",
    "    except:\n",
    "        print(\"Not found\")\n",
    "\n",
    "print(total)"
   ]
  }
 ],
 "metadata": {
  "kernelspec": {
   "display_name": "Python 3.9.6 64-bit",
   "language": "python",
   "name": "python3"
  },
  "language_info": {
   "codemirror_mode": {
    "name": "ipython",
    "version": 3
   },
   "file_extension": ".py",
   "mimetype": "text/x-python",
   "name": "python",
   "nbconvert_exporter": "python",
   "pygments_lexer": "ipython3",
   "version": "3.9.6"
  },
  "orig_nbformat": 4,
  "vscode": {
   "interpreter": {
    "hash": "9ed01bf3e969b83a52ea704bdfcdb9489080434f4a73e48ff34431a518d0aca8"
   }
  }
 },
 "nbformat": 4,
 "nbformat_minor": 2
}
